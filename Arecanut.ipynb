{
  "cells": [
    {
      "cell_type": "code",
      "execution_count": null,
      "metadata": {
        "id": "LpqCJqxaEFWv"
      },
      "outputs": [],
      "source": [
        "!tensorflow --version"
      ]
    },
    {
      "cell_type": "code",
      "execution_count": 1,
      "metadata": {
        "id": "zfkZktwqIEJ4"
      },
      "outputs": [
        {
          "name": "stdout",
          "output_type": "stream",
          "text": [
            "WARNING:tensorflow:From C:\\Users\\HP\\AppData\\Local\\Packages\\PythonSoftwareFoundation.Python.3.11_qbz5n2kfra8p0\\LocalCache\\local-packages\\Python311\\site-packages\\keras\\src\\losses.py:2976: The name tf.losses.sparse_softmax_cross_entropy is deprecated. Please use tf.compat.v1.losses.sparse_softmax_cross_entropy instead.\n",
            "\n"
          ]
        }
      ],
      "source": [
        "\n",
        "import tensorflow as tf\n",
        "import os\n",
        "from tensorflow.keras.preprocessing.image import ImageDataGenerator\n",
        "from tensorflow.keras import layers, models\n",
        "import matplotlib.pyplot as plt\n",
        "import numpy as np\n",
        "from tensorflow import keras"
      ]
    },
    {
      "cell_type": "code",
      "execution_count": null,
      "metadata": {
        "colab": {
          "base_uri": "https://localhost:8080/"
        },
        "id": "vE7M0EGr1pAz",
        "outputId": "cc835c28-dc1c-4e3a-e077-e4c9a08646ac"
      },
      "outputs": [
        {
          "name": "stdout",
          "output_type": "stream",
          "text": [
            "Mounted at /content/drive\n"
          ]
        }
      ],
      "source": [
        "from google.colab import drive\n",
        "drive.mount('/content/drive')"
      ]
    },
    {
      "cell_type": "code",
      "execution_count": 2,
      "metadata": {
        "id": "IGGNAEy9EItN"
      },
      "outputs": [],
      "source": [
        "import pathlib\n",
        "train_dir=pathlib.Path('D:/arecanut-grading-main/Arecanut_dataset/Arecanut_dataset/train')\n",
        "test_dir=pathlib.Path('D:/arecanut-grading-main/Arecanut_dataset/Arecanut_dataset/test')"
      ]
    },
    {
      "cell_type": "code",
      "execution_count": 3,
      "metadata": {
        "id": "FpMgej3XEZZN"
      },
      "outputs": [],
      "source": [
        "batch_size = 10\n",
        "img_height = 224\n",
        "img_width = 224"
      ]
    },
    {
      "cell_type": "code",
      "execution_count": 4,
      "metadata": {
        "colab": {
          "base_uri": "https://localhost:8080/"
        },
        "id": "Y9h93-Y7EcMK",
        "outputId": "0dc6f369-9cc9-418e-edb4-91632730beaf"
      },
      "outputs": [
        {
          "name": "stdout",
          "output_type": "stream",
          "text": [
            "Found 8847 images belonging to 9 classes.\n"
          ]
        }
      ],
      "source": [
        "train_image_generator = ImageDataGenerator(rescale=1./255)  \n",
        "train_data_gen = train_image_generator.flow_from_directory(batch_size=batch_size,\n",
        "                                                           directory=train_dir,\n",
        "                                                           shuffle=True,\n",
        "                                                           target_size=(img_height, img_width),\n",
        "                                                           class_mode='categorical')"
      ]
    },
    {
      "cell_type": "code",
      "execution_count": 5,
      "metadata": {
        "colab": {
          "base_uri": "https://localhost:8080/"
        },
        "id": "8697cgWXElV_",
        "outputId": "4a409a02-2c87-4470-a541-aed8121bcdb5"
      },
      "outputs": [
        {
          "name": "stdout",
          "output_type": "stream",
          "text": [
            "Found 2216 images belonging to 9 classes.\n"
          ]
        }
      ],
      "source": [
        "val_image_generator = ImageDataGenerator(rescale=1./255)  \n",
        "val_data_gen = val_image_generator .flow_from_directory(batch_size=batch_size,\n",
        "                                                        directory=test_dir,\n",
        "                                                        shuffle=True,\n",
        "                                                        target_size=(img_height, img_width),\n",
        "                                                        class_mode='categorical')"
      ]
    },
    {
      "cell_type": "code",
      "execution_count": 6,
      "metadata": {
        "id": "27JwyTc4EvWk"
      },
      "outputs": [],
      "source": [
        "from tensorflow import keras\n",
        "from keras.applications.inception_v3 import InceptionV3"
      ]
    },
    {
      "cell_type": "code",
      "execution_count": 7,
      "metadata": {
        "colab": {
          "base_uri": "https://localhost:8080/"
        },
        "id": "SJeiX4YWEyu_",
        "outputId": "8e5779cf-05da-481c-b566-a32ca6332e54"
      },
      "outputs": [
        {
          "name": "stdout",
          "output_type": "stream",
          "text": [
            "WARNING:tensorflow:From C:\\Users\\HP\\AppData\\Local\\Packages\\PythonSoftwareFoundation.Python.3.11_qbz5n2kfra8p0\\LocalCache\\local-packages\\Python311\\site-packages\\keras\\src\\backend.py:1398: The name tf.executing_eagerly_outside_functions is deprecated. Please use tf.compat.v1.executing_eagerly_outside_functions instead.\n",
            "\n",
            "WARNING:tensorflow:From C:\\Users\\HP\\AppData\\Local\\Packages\\PythonSoftwareFoundation.Python.3.11_qbz5n2kfra8p0\\LocalCache\\local-packages\\Python311\\site-packages\\keras\\src\\layers\\normalization\\batch_normalization.py:979: The name tf.nn.fused_batch_norm is deprecated. Please use tf.compat.v1.nn.fused_batch_norm instead.\n",
            "\n",
            "Downloading data from https://storage.googleapis.com/tensorflow/keras-applications/inception_v3/inception_v3_weights_tf_dim_ordering_tf_kernels_notop.h5\n",
            "87910968/87910968 [==============================] - 44s 1us/step\n"
          ]
        }
      ],
      "source": [
        "IMAGE_SIZE = [224, 224]\n",
        "base_model = InceptionV3(input_shape=IMAGE_SIZE + [3], weights='imagenet', include_top=False)\n",
        "base_model.trainable = False"
      ]
    },
    {
      "cell_type": "code",
      "execution_count": null,
      "metadata": {
        "id": "9nPKpdIeE9j8"
      },
      "outputs": [],
      "source": [
        "#  base_model.summary()"
      ]
    },
    {
      "cell_type": "code",
      "execution_count": 14,
      "metadata": {
        "id": "t0Vws7CTFCyK"
      },
      "outputs": [],
      "source": [
        "cnn_model = keras.models.Sequential([\n",
        "    base_model,\n",
        "    keras.layers.GlobalAveragePooling2D(),\n",
        "    keras.layers.Flatten(),\n",
        "    keras.layers.Dense(100, activation=\"relu\"),\n",
        "    keras.layers.Dense(9, activation=\"softmax\")\n",
        "])"
      ]
    },
    {
      "cell_type": "code",
      "execution_count": 15,
      "metadata": {
        "id": "jVD8BPlDFIzP"
      },
      "outputs": [],
      "source": [
        "cnn_model.compile(optimizer='adam',\n",
        "loss='categorical_crossentropy',\n",
        "metrics=['accuracy'])"
      ]
    },
    {
      "cell_type": "code",
      "execution_count": 16,
      "metadata": {
        "colab": {
          "base_uri": "https://localhost:8080/"
        },
        "id": "KhNcAZqkFLlb",
        "outputId": "d4480bd8-58b5-4dec-deb1-27992a1f0fd4"
      },
      "outputs": [
        {
          "name": "stdout",
          "output_type": "stream",
          "text": [
            "885/885 [==============================] - 3484s 4s/step - loss: 0.2413 - accuracy: 0.9234 - val_loss: 0.0671 - val_accuracy: 0.9765\n"
          ]
        }
      ],
      "source": [
        "#history = cnn_model.fit(train_data_gen, epochs=1,\n",
        "#validation_data= val_data_gen,)\n",
        "\n",
        "save_path = 'model.h5'\n",
        "try:\n",
        "    cnn_model.fit(train_data_gen,validation_data= val_data_gen,\n",
        "              epochs=1)\n",
        "except KeyboardInterrupt:\n",
        "    cnn_model.save(save_path)\n",
        "    print('Output saved to: \"{}./*\"'.format(save_path))\n"
      ]
    },
    {
      "cell_type": "code",
      "execution_count": 19,
      "metadata": {
        "id": "u3X0FOyYp15m"
      },
      "outputs": [],
      "source": [
        "class_names = ['GradeA', 'GradeB', 'GradeC', 'GradeD','GradeE','GradeF''GradeG','GradeH','GradeI']"
      ]
    },
    {
      "cell_type": "code",
      "execution_count": null,
      "metadata": {
        "id": "UjhO-2k-pAwd"
      },
      "outputs": [],
      "source": []
    },
    {
      "cell_type": "code",
      "execution_count": 21,
      "metadata": {
        "id": "yDdPxm-spAsY"
      },
      "outputs": [
        {
          "name": "stdout",
          "output_type": "stream",
          "text": [
            "Found 8847 images belonging to 9 classes.\n",
            "Found 2216 images belonging to 9 classes.\n",
            "885/885 [==============================] - 1346s 2s/step - loss: 0.2378 - accuracy: 0.9181 - val_loss: 0.1362 - val_accuracy: 0.9544\n"
          ]
        }
      ],
      "source": [
        "import tensorflow as tf\n",
        "import os\n",
        "from tensorflow import keras\n",
        "from keras.preprocessing.image import ImageDataGenerator\n",
        "from keras import layers, models\n",
        "import matplotlib.pyplot as plt\n",
        "import numpy as np\n",
        "from tensorflow import keras\n",
        "import pathlib\n",
        "train_dir=pathlib.Path('D:/arecanut-grading-main/Arecanut_dataset/Arecanut_dataset/train')\n",
        "test_dir=pathlib.Path('D:/arecanut-grading-main/Arecanut_dataset/Arecanut_dataset/test')\n",
        "batch_size = 10\n",
        "train_image_generator = ImageDataGenerator(rescale=1./255)  \n",
        "train_data_gen = train_image_generator.flow_from_directory(batch_size=batch_size,\n",
        "                                                           directory=train_dir,\n",
        "                                                           shuffle=True,\n",
        "                                                           target_size=(img_height, img_width),\n",
        "                                                           class_mode='categorical')\n",
        "val_image_generator = ImageDataGenerator(rescale=1./255)  \n",
        "val_data_gen = val_image_generator .flow_from_directory(batch_size=batch_size,\n",
        "                                                        directory=test_dir,\n",
        "                                                        shuffle=True,\n",
        "                                                        target_size=(img_height, img_width),\n",
        "                                                        class_mode='categorical')\n",
        "from tensorflow import keras\n",
        "from keras.applications.inception_v3 import InceptionV3\n",
        "IMAGE_SIZE = [224, 224]\n",
        "base_model = InceptionV3(input_shape=IMAGE_SIZE + [3], weights='imagenet', include_top=False)\n",
        "base_model.trainable = False\n",
        "cnn_model = keras.models.Sequential([ base_model,\n",
        "    keras.layers.GlobalAveragePooling2D(),\n",
        "    keras.layers.Flatten(),\n",
        "    keras.layers.Dense(100, activation=\"relu\"),\n",
        "    keras.layers.Dense(9, activation=\"softmax\")])\n",
        "cnn_model.compile(optimizer='adam',\n",
        "loss='categorical_crossentropy',\n",
        "metrics=['accuracy'])\n",
        "\n",
        "\n",
        "save_path = './keras-saves/_latest.ckpt'\n",
        "try:\n",
        "    cnn_model.fit(train_data_gen,validation_data= val_data_gen,\n",
        "              epochs=1)\n",
        "except KeyboardInterrupt:\n",
        "    cnn_model.save(save_path)\n",
        "    print('Output saved to: \"{}./*\"'.format(save_path))\n",
        "\n"
      ]
    },
    {
      "cell_type": "code",
      "execution_count": 22,
      "metadata": {
        "id": "GCUDGgtZxlWb"
      },
      "outputs": [
        {
          "name": "stdout",
          "output_type": "stream",
          "text": [
            "INFO:tensorflow:Assets written to: CNN-model.hdfi\\assets\n"
          ]
        },
        {
          "name": "stderr",
          "output_type": "stream",
          "text": [
            "INFO:tensorflow:Assets written to: CNN-model.hdfi\\assets\n",
            "C:\\Users\\HP\\AppData\\Local\\Packages\\PythonSoftwareFoundation.Python.3.11_qbz5n2kfra8p0\\LocalCache\\local-packages\\Python311\\site-packages\\keras\\src\\engine\\training.py:3103: UserWarning: You are saving your model as an HDF5 file via `model.save()`. This file format is considered legacy. We recommend using instead the native Keras format, e.g. `model.save('my_model.keras')`.\n",
            "  saving_api.save_model(\n"
          ]
        }
      ],
      "source": [
        "cnn_model.save('CNN-model.hdfi')\n",
        "cnn_model.save('CNN-model.h5')"
      ]
    }
  ],
  "metadata": {
    "colab": {
      "collapsed_sections": [],
      "provenance": []
    },
    "kernelspec": {
      "display_name": "Python 3",
      "name": "python3"
    },
    "language_info": {
      "codemirror_mode": {
        "name": "ipython",
        "version": 3
      },
      "file_extension": ".py",
      "mimetype": "text/x-python",
      "name": "python",
      "nbconvert_exporter": "python",
      "pygments_lexer": "ipython3",
      "version": "3.11.9"
    }
  },
  "nbformat": 4,
  "nbformat_minor": 0
}
